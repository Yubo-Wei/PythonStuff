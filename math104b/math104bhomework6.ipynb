{
 "cells": [
  {
   "cell_type": "code",
   "execution_count": 8,
   "metadata": {},
   "outputs": [],
   "source": [
    "import matplotlib.pyplot as plt\n",
    "import numpy as np"
   ]
  },
  {
   "cell_type": "code",
   "execution_count": 30,
   "metadata": {},
   "outputs": [],
   "source": [
    "#yubowei 05/25/2021\n",
    "#solving the matrix\n",
    "#input upper diagonal and y vector\n",
    "def upper(upper, y):\n",
    "    x = np.zeros(len(y))\n",
    "    # start from the bottom\n",
    "    for i in range(len(y)-1, -1, -1):\n",
    "        temp = [upper[i][j] * x[j] for j in range(len(y)-1, i, -1)]\n",
    "        x[i] = (y[i] - sum(temp))/upper[i][i]\n",
    "    return x\n",
    "# similarly. we can solve the lower diagonal\n",
    "def lower(lower, y):\n",
    "    x = np.zeros(len(y))\n",
    "    for i in range(0, len(y)):\n",
    "        temp = [lower[i][j] * x[j] for j in range(i)]\n",
    "        x[i] = (y[i] - sum(temp))/lower[i][i]\n",
    "    return x\n",
    "# this is a void function\n",
    "# input: tridiagonal matrix and zero matrixes\n",
    "# output: Lower diagonal and upper diagonal \n",
    "def void(m, l, u):\n",
    "    # for eaiser computation, here I used Natural Spline graph from https://zhuanlan.zhihu.com/p/62860859\n",
    "    # basically, it adds an edge to the matrix \n",
    "    l[-1][-1] = 1\n",
    "    u[0][0] = m[0][0]\n",
    "    for i in range(len(m) - 1):\n",
    "        l[i][i] = 1\n",
    "        u[i][i+1] = m[i][i+1]\n",
    "        l[i+1][i] = m[i+1][i]/u[i][i]\n",
    "        u[i+1][i+1] = m[i+1][i+1] - l[i+1][i] * m[i][i+1]\n",
    "        \n",
    "# now solve the tridiagonal matrix Ax = y\n",
    "# input tridiagonal matrix and y vector\n",
    "\n",
    "def solve_tridiagonal(m, y):\n",
    "    l = np.zeros((len(m),len(m)))\n",
    "    u = np.zeros((len(m),len(m)))\n",
    "    void(m,l,u)\n",
    "    z = lower(l,y)\n",
    "    x = upper(u,z)\n",
    "    return x\n",
    "\n"
   ]
  },
  {
   "cell_type": "code",
   "execution_count": 41,
   "metadata": {},
   "outputs": [
    {
     "data": {
      "text/plain": [
       "array([4.       , 2.       , 4.       , 4.3575419, 5.8603352])"
      ]
     },
     "execution_count": 41,
     "metadata": {},
     "output_type": "execute_result"
    }
   ],
   "source": [
    "# Test code\n",
    "A = np.array([[5,1,0,0,0],\n",
    "           [1,4,1,0,0],\n",
    "           [0,2,4,1,0],\n",
    "           [0,4,2,6,0],\n",
    "           [0,0,1,2,4]])\n",
    "b = np.array([4,2,4,4,5])\n",
    "x = solve_tridiagonal(A,b)\n",
    "np.dot(A,x)"
   ]
  },
  {
   "cell_type": "markdown",
   "metadata": {},
   "source": [
    "## Q2\n",
    "Consider the boundary value problem:\n",
    "$$\n",
    "\\begin{aligned}\n",
    "-u^{\\prime \\prime}+\\pi^{2} u &=2 \\pi^{2} \\sin (\\pi x) \\quad 0<x<1, \\\\\n",
    "u(0) &=u(1)=0\n",
    "\\end{aligned}\n",
    "$$"
   ]
  },
  {
   "cell_type": "markdown",
   "metadata": {},
   "source": [
    "We can find a numerical approximation to the solution of this problem by employing the finite difference method. Use a uniform grid with $N-1$ interior nodes to obtain, by replacing the second derivative with a second order finite difference and neglecting the (truncation) error, the linear system:"
   ]
  },
  {
   "cell_type": "markdown",
   "metadata": {},
   "source": [
    "$$\n",
    "\\frac{-v_{j-1}+2 v_{j}-v_{j+1}}{h^{2}}+\\pi^{2} v_{j}=2 \\pi^{2} \\sin \\left(\\pi x_{j}\\right) \\text { for } j=1,2, \\ldots, N-1\n",
    "$$\n",
    "$$\n",
    "\\text { where } \\mathrm{h}=1 / \\mathrm{N}, v_{j} \\text { is the approximation to } u\\left(x_{j}\\right) \\text { for } j=1,2, \\ldots, N-1, \\text { and } v_{0}=v_{N}=0 \\text { . }\n",
    "$$"
   ]
  },
  {
   "cell_type": "code",
   "execution_count": 63,
   "metadata": {},
   "outputs": [],
   "source": [
    "# solve boundary value problem\n",
    "# input: N \n",
    "# output: u\n",
    "def bvp(N):\n",
    "    x = np.linspace(0,1, N + 1) # the beam\n",
    "    h = 1/N # grid size\n",
    "    A = np.zeros((N-1,N-1))\n",
    "    for i in range(N - 1):\n",
    "        A[i][i] = 2+(h**2)*(np.pi**2) # diagonal form \n",
    "        if i > 0:\n",
    "            A[i][i-1] = -1\n",
    "            A[i-1][i] = -1\n",
    "    m = 1/2/(h**2)/(np.pi**2)*A\n",
    "    y = np.sin(np.pi*x)[1:-1]\n",
    "    return solve_tridiagonal(m,y)"
   ]
  },
  {
   "cell_type": "code",
   "execution_count": 77,
   "metadata": {},
   "outputs": [
    {
     "data": {
      "text/plain": [
       "[<matplotlib.lines.Line2D at 0x7fc6007604c0>]"
      ]
     },
     "execution_count": 77,
     "metadata": {},
     "output_type": "execute_result"
    },
    {
     "data": {
      "image/png": "[encoded data removed]",
      "text/plain": [
       "<Figure size 432x288 with 1 Axes>"
      ]
     },
     "metadata": {
      "needs_background": "light"
     },
     "output_type": "display_data"
    }
   ],
   "source": [
    "N1 = 50\n",
    "X1 = np.linspace(0,1,N1+1)\n",
    "u1 = bvp(N)\n",
    "# u and X have different dimensions\n",
    "plt.plot(X1,np.concatenate([[0],bvp(N1),[0]]))"
   ]
  },
  {
   "cell_type": "code",
   "execution_count": 83,
   "metadata": {},
   "outputs": [
    {
     "data": {
      "text/plain": [
       "0.0008224940857883215"
      ]
     },
     "execution_count": 83,
     "metadata": {},
     "output_type": "execute_result"
    }
   ],
   "source": [
    "# the error of your approximation in the 2-norm for N = 50\n",
    "real_1 = np.sin(np.pi*np.linspace(0,1,N1 + 1))\n",
    "error1 = np.linalg.norm(real_1-np.concatenate([[0],bvp(N1),[0]]))\n",
    "error1"
   ]
  },
  {
   "cell_type": "code",
   "execution_count": 88,
   "metadata": {},
   "outputs": [
    {
     "data": {
      "text/plain": [
       "0.3535446696482984"
      ]
     },
     "execution_count": 88,
     "metadata": {},
     "output_type": "execute_result"
    }
   ],
   "source": [
    "#for N = 100, by how much would you expect the error to decrease? \n",
    "N2 = 100\n",
    "real_2 = np.sin(np.pi*np.linspace(0,1,N2 + 1))\n",
    "error2 = np.linalg.norm(real_2-np.concatenate([[0],bvp(N2),[0]]))\n",
    "error2/error1\n",
    "# we expect that error would be 1/4 of the previous error, since O(h^2) and N doubled."
   ]
  }
 ],
 "metadata": {
  "kernelspec": {
   "display_name": "Python 3",
   "language": "python",
   "name": "python3"
  },
  "language_info": {
   "codemirror_mode": {
    "name": "ipython",
    "version": 3
   },
   "file_extension": ".py",
   "mimetype": "text/x-python",
   "name": "python",
   "nbconvert_exporter": "python",
   "pygments_lexer": "ipython3",
   "version": "3.8.5"
  }
 },
 "nbformat": 4,
 "nbformat_minor": 4
}
