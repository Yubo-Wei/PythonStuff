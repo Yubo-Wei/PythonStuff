{
 "cells": [
  {
   "cell_type": "markdown",
   "metadata": {},
   "source": [
    "## Question 1"
   ]
  },
  {
   "cell_type": "markdown",
   "metadata": {},
   "source": [
    "Consider a reduced system where floating point numbers are represented in binary as $\\pm S \\cdot 2^{E}$ where $S=1 . b_{1} b_{2}$ and the exponent can only be -1,0,1 . \n",
    "- (a) How many numbers can this system represent? \n",
    "- (b) Display these numbers in the real line. \n",
    "- (c) What is the eps of this system?"
   ]
  },
  {
   "cell_type": "markdown",
   "metadata": {},
   "source": [
    "Answers:\n",
    "- we have two signs.\n",
    "- Since we only have $b_1$ and $b_2$, there are 2^2 way of the mantissa \n",
    "- Since the exponent can only be -1, 0, 1, there are 3 ways of the exponent\n",
    "- then we have $2 \\cdot 2^{2} \\cdot 3=24 $ numbers."
   ]
  },
  {
   "cell_type": "code",
   "execution_count": 38,
   "metadata": {},
   "outputs": [
    {
     "name": "stdout",
     "output_type": "stream",
     "text": [
      "[-0.5   -0.625 -0.875 -0.75  -1.    -1.25  -1.75  -1.5   -2.    -2.5\n",
      " -3.5   -3.     0.5    0.625  0.875  0.75   1.     1.25   1.75   1.5\n",
      "  2.     2.5    3.5    3.   ]\n"
     ]
    },
    {
     "data": {
      "image/png": "[encoded data removed]",
      "text/plain": [
       "<Figure size 432x288 with 1 Axes>"
      ]
     },
     "metadata": {
      "needs_background": "light"
     },
     "output_type": "display_data"
    }
   ],
   "source": [
    "# Display these numbers in the real line.\n",
    "# input: mantissa_S, exponent_E, and the sign.\n",
    "# yubowei 6990006\n",
    "# 04/05\n",
    "\n",
    "import numpy as np\n",
    "import matplotlib.pyplot as plt\n",
    "\n",
    "mantissa_S = ['00', '01', '11', '10'] \n",
    "# set this as a character array and then transform to integer\n",
    "exponent_E = [-1,0,1] \n",
    "sign = [-1,1]\n",
    "temp = []\n",
    "for i in sign:\n",
    "    for j in exponent_E:\n",
    "        for s in mantissa_S:\n",
    "            temp.append(i*(1+int(s[0]) / 2 + int(s[1]) / 4)*(2**j)) # base 2\n",
    "temp = np.array(temp)\n",
    "print(temp)\n",
    "Y = np.zeros(temp.size)\n",
    "plt.scatter(temp, Y)\n",
    "plt.show()"
   ]
  },
  {
   "cell_type": "markdown",
   "metadata": {},
   "source": [
    "d = 2, \n",
    "$\\epsilon=2^{-2}=0.25 $"
   ]
  }
 ],
 "metadata": {
  "kernelspec": {
   "display_name": "Python 3",
   "language": "python",
   "name": "python3"
  },
  "language_info": {
   "codemirror_mode": {
    "name": "ipython",
    "version": 3
   },
   "file_extension": ".py",
   "mimetype": "text/x-python",
   "name": "python",
   "nbconvert_exporter": "python",
   "pygments_lexer": "ipython3",
   "version": "3.8.5"
  }
 },
 "nbformat": 4,
 "nbformat_minor": 4
}
