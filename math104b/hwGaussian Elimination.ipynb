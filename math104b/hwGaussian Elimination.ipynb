{
 "cells": [
  {
   "cell_type": "code",
   "execution_count": 13,
   "metadata": {},
   "outputs": [],
   "source": [
    "# Implement (write a code) Gaussian Elimination with partial pivoting to solve a linear system Ax = b\n",
    "# input:A and b\n",
    "# output:the solution x or an error message (if A is nonsingular), L,P and U \n",
    "# yubowei 6990006\n",
    "# 05/17\n",
    "import numpy as np\n",
    "\n",
    "def Solve_LU(A,b):\n",
    "    # create Augmented Matrix, column + 1\n",
    "    A_b = np.zeros((A[0].size, A[0].size+1))\n",
    "    A_b[:, :-1] = A\n",
    "    A_b[:, -1] = b\n",
    "    P_index = []\n",
    "    P = A_b\n",
    "    for i in range(len(A) - 1):\n",
    "        # Step 1: error message to check nonsingular\n",
    "        if abs(max(abs(A[i:,i]))) == 0:\n",
    "            print(\"Not A Nonsingular Matrix\")\n",
    "            return\n",
    "        # Step 2 switch the max row\n",
    "        max_r = list(abs(A[:,i])).index(max(abs(A[i:,i])))\n",
    "        P_index.append((i,max_r))\n",
    "        A_b[i], A_b[max_r] = A_b[max_r], A_b[i]\n",
    "        # step 3 compute mutipliers and perform elimination \n",
    "        for j in range(i+1, len(A)):\n",
    "            temp = A_b[j,i]/A_b[i,i]\n",
    "            A_b[j] -= A_b[i] * temp\n",
    "            A_b[j,i] = temp \n",
    "    # after the transformation, check nonsingular for the last row..\n",
    "    if A_b[-1,-2] == 0:\n",
    "        print(\"Not A Nonsingular Matrix\")\n",
    "        return\n",
    "    # store indexes into P\n",
    "    for i in P_index:\n",
    "        P[i[0]], P[i[1]] = P[i[1]], P[i[0]]\n",
    "    return A_b, P\n",
    "# solve the upper diagonal matrix using backward method\n",
    "def upper(U,y):\n",
    "    x = np.zeros(len(y))\n",
    "    for i in range(len(y)-1, -1, -1):\n",
    "        temp = [U[i,j]*x[j] for j in range(len(y)-1, i, -1)]\n",
    "        x[i] = (y[i] - sum(temp))/U[i,i]\n",
    "    return x\n",
    "def Gauss(A,b):\n",
    "    LU, PA = Solve_LU(A,b)\n",
    "    L = np.tril(LU[:,:-1])\n",
    "    U = np.triu(LU[:,:-1])\n",
    "    for i in range(0,len(L)):\n",
    "        L[i,i] = 1\n",
    "    return PA, upper(U,LU[:,-1]), L, U"
   ]
  },
  {
   "cell_type": "code",
   "execution_count": 15,
   "metadata": {},
   "outputs": [
    {
     "name": "stdout",
     "output_type": "stream",
     "text": [
      "[-0.17083787 -0.06746464  0.46028292  0.52448313  0.8726877 ]\n"
     ]
    }
   ],
   "source": [
    "A = np.array([[5,1,0,2,1],\n",
    "           [0,4,0,1,2],\n",
    "           [1,1,4,1,1],\n",
    "           [0,1,2,6,0],\n",
    "           [0,0,1,2,4]])\n",
    "b = np.array([1.,2.,3.,4.,5.])\n",
    "P, x, L, U = Gauss(A,b)\n",
    "print(x)"
   ]
  },
  {
   "cell_type": "code",
   "execution_count": 19,
   "metadata": {},
   "outputs": [
    {
     "name": "stdout",
     "output_type": "stream",
     "text": [
      "Not A Nonsingular Matrix\n"
     ]
    }
   ],
   "source": [
    "A = np.array([[5.,1.,0.,2.],\n",
    "           [0.,4.,0.,8.],\n",
    "           [1.,1.,4.,2.],\n",
    "           [0.,1.,2.,2.]])\n",
    "b = np.array([1.,2.,3.,4.])\n",
    "Solve_LU(A,b)"
   ]
  },
  {
   "cell_type": "code",
   "execution_count": null,
   "metadata": {},
   "outputs": [],
   "source": []
  }
 ],
 "metadata": {
  "kernelspec": {
   "display_name": "Python 3",
   "language": "python",
   "name": "python3"
  },
  "language_info": {
   "codemirror_mode": {
    "name": "ipython",
    "version": 3
   },
   "file_extension": ".py",
   "mimetype": "text/x-python",
   "name": "python",
   "nbconvert_exporter": "python",
   "pygments_lexer": "ipython3",
   "version": "3.8.5"
  }
 },
 "nbformat": 4,
 "nbformat_minor": 4
}
