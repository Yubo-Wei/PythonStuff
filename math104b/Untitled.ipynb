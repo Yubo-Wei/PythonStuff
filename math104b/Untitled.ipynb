{
 "cells": [
  {
   "cell_type": "code",
   "execution_count": 1,
   "metadata": {},
   "outputs": [],
   "source": [
    "from numpy import zeros, array, dot, linspace, sin, pi, concatenate\n",
    "from numpy.linalg import norm\n",
    "import matplotlib.pyplot as plt\n",
    "from pandas import DataFrame\n"
   ]
  },
  {
   "cell_type": "code",
   "execution_count": 2,
   "metadata": {},
   "outputs": [],
   "source": [
    "def linear_u_solver(U,y):\n",
    "    x = zeros( len(y) )\n",
    "    for i in range(len(y)-1,-1,-1):\n",
    "        coef = [U[i][j]*x[j] for j in range(len(y)-1,i,-1)]\n",
    "        x[i] = ( y[i]-sum(coef) )/U[i][i]\n",
    "    return x\n",
    "\n",
    "# Solving lower diagonal system Lx = y\n",
    "# INPUT: L (linear system matrix, lower diagonal), \n",
    "# y (column vector)\n",
    "# OUTPUT: x (unkowns column vector)\n",
    "# Carles Falcó i Gandia\n",
    "# 14/11/18\n",
    "def linear_l_solver(U,y):\n",
    "    x = zeros( len(y) )\n",
    "    for i in range(0,len(y)):\n",
    "        coef = [U[i][j]*x[j] for j in range(0,i)]\n",
    "        x[i] = ( y[i]-sum(coef) )/U[i][i]\n",
    "    return x\n",
    "def LU_dec_tri(M,L,U):\n",
    "    U[0][0] = M[0][0]\n",
    "    L[-1][-1] = 1\n",
    "    for j in range(0,len(M)-1):\n",
    "        L[j][j] = 1\n",
    "        U[j][j+1] = M[j][j+1]\n",
    "        L[j+1][j] = M[j+1][j]/U[j][j]\n",
    "        U[j+1][j+1] = M[j+1][j+1] - L[j+1][j]*M[j][j+1]\n",
    "\n",
    "# Solving a tridiagonal system Mx = y\n",
    "# INPUT: A (tridiagonal matrix), y (column vector)\n",
    "# OUTPUT: x (unknown column vector)\n",
    "# Carles Falcó i Gandia\n",
    "# 14/11/18\n",
    "def linear_tri_solver(M,y):\n",
    "    L = zeros( (len(M),len(M)) )\n",
    "    U = zeros( (len(M),len(M)) )\n",
    "    LU_dec_tri(M,L,U)\n",
    "    u = linear_l_solver(L,y)\n",
    "    x = linear_u_solver(U,u)\n",
    "    return x"
   ]
  },
  {
   "cell_type": "code",
   "execution_count": 3,
   "metadata": {},
   "outputs": [
    {
     "name": "stdout",
     "output_type": "stream",
     "text": [
      "Solution to Ax = b\n",
      "[-6.2  5.6  3.4 -6.8]\n"
     ]
    }
   ],
   "source": [
    "m_1 = array([[1.,2.,0.,0.],[2.,1.,2.,0.],[0.,2.,1.,2.],[0.,0.,2.,1.]])\n",
    "y_1 = array([5.,0.,1.,0.])\n",
    "\n",
    "x_1 = linear_tri_solver(m_1,y_1)\n",
    "print('Solution to Ax = b')\n",
    "print(x_1)"
   ]
  },
  {
   "cell_type": "code",
   "execution_count": 5,
   "metadata": {},
   "outputs": [
    {
     "data": {
      "text/plain": [
       "array([0.1, 0.5, 0.5, 0.5, 1. ])"
      ]
     },
     "execution_count": 5,
     "metadata": {},
     "output_type": "execute_result"
    }
   ],
   "source": [
    "A = array([[5,1,0,2,1],\n",
    "           [0,4,0,1,2],\n",
    "           [1,1,4,1,1],\n",
    "           [0,1,2,6,0],\n",
    "           [0,0,1,2,4]])\n",
    "b = array([1.,2.,3.,4.,5.])\n",
    "linear_tri_solver(A,b)"
   ]
  }
 ],
 "metadata": {
  "kernelspec": {
   "display_name": "Python 3",
   "language": "python",
   "name": "python3"
  },
  "language_info": {
   "codemirror_mode": {
    "name": "ipython",
    "version": 3
   },
   "file_extension": ".py",
   "mimetype": "text/x-python",
   "name": "python",
   "nbconvert_exporter": "python",
   "pygments_lexer": "ipython3",
   "version": "3.8.5"
  }
 },
 "nbformat": 4,
 "nbformat_minor": 4
}
