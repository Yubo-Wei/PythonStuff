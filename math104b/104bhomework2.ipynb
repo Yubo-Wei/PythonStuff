{
 "cells": [
  {
   "cell_type": "markdown",
   "metadata": {},
   "source": [
    "### Q1\n",
    "1. Let $f(x)=e^{x}$.\n",
    "(a) Compute the centered difference approximation of $f^{\\prime}(1 / 2)$, i.e. $D_{h}^{0} f(1 / 2)$, for $h=0.1 / 2^{n}, n=0,1, \\ldots, 10$, and verify its quadratic rate of convergence.\n"
   ]
  },
  {
   "cell_type": "code",
   "execution_count": 11,
   "metadata": {},
   "outputs": [
    {
     "data": {
      "image/png": "[encoded data removed]",
      "text/plain": [
       "<Figure size 432x288 with 1 Axes>"
      ]
     },
     "metadata": {
      "needs_background": "light"
     },
     "output_type": "display_data"
    },
    {
     "data": {
      "text/plain": [
       "array([2.74924305e-03, 6.87053072e-04, 1.71747166e-04, 4.29357852e-05,\n",
       "       1.07338834e-05, 2.68346695e-06, 6.70866521e-07, 1.67716643e-07,\n",
       "       4.19292627e-08, 1.04823465e-08, 2.62147015e-09])"
      ]
     },
     "execution_count": 11,
     "metadata": {},
     "output_type": "execute_result"
    }
   ],
   "source": [
    "# Compute the centered difference approximation of  f\n",
    "# yubowei \n",
    "# 04/13/2021\n",
    "import numpy as np\n",
    "import matplotlib.pyplot as plt\n",
    "import pandas\n",
    "f = lambda x: np.exp(x)\n",
    "x_0 = 1/2 \n",
    "h = np.array([0.1/2**n for n in range(0, 11)])\n",
    "D_h = (f(x_0+h)-f(x_0-h))/(2*h)\n",
    "\n",
    "error = abs(D_h-f(1/2))\n",
    "# the derivative of exp(x) is still exp(x)\n",
    "# now we can plot the error and check the rate of convergence.\n",
    "plt.scatter(h,D_h)\n",
    "plt.show()\n",
    "error"
   ]
  },
  {
   "cell_type": "markdown",
   "metadata": {},
   "source": [
    "Now in order to compute the rate of convergence, we simply need to compute the division of the errors and find the \n",
    "relationship with $1/2$."
   ]
  },
  {
   "cell_type": "code",
   "execution_count": 15,
   "metadata": {},
   "outputs": [
    {
     "name": "stdout",
     "output_type": "stream",
     "text": [
      "0.24990626856363246 0.24997656367367205\n"
     ]
    }
   ],
   "source": [
    "rate1 = 6.87053072e-04/2.74924305e-03\n",
    "rate2 = 1.71747166e-04/6.87053072e-04\n",
    "print (rate1,rate2)"
   ]
  },
  {
   "cell_type": "markdown",
   "metadata": {},
   "source": [
    "* It has a convergence linear trend at the rate of 2."
   ]
  },
  {
   "cell_type": "markdown",
   "metadata": {},
   "source": [
    "(b) Determine approximately the optimal value $h_{0}$ which gives the minimum total error (the sum of the discretization error plus the round-off error) and verify this numerically.\n"
   ]
  },
  {
   "cell_type": "markdown",
   "metadata": {},
   "source": [
    "we know that \n",
    "$$\n",
    "\\frac{f\\left(x_{0}+h\\right)\\left(1+\\delta_{+}\\right)-f\\left(x_{0}-h\\right)\\left(1+\\delta_{-}\\right)}{2 h}=\\frac{f\\left(x_{0}+h\\right)-f\\left(x_{0}-h\\right)}{2 h}+r_{h}\n",
    "$$\n",
    "where\n",
    "$$\n",
    "r_{h}=\\frac{f\\left(x_{0}+h\\right) \\delta_{+}-f\\left(x_{0}-h\\right) \\delta_{-}}{2 h}\n",
    "$$\n",
    "$$\n",
    "\\left|r_{h}\\right| \\leq\\left(\\left|f\\left(x_{0}+h\\right)\\right|+\\left|f\\left(x_{0}-h\\right)\\right|\\right) \\frac{e p s}{2 h} \\approx\\left|f\\left(x_{0}\\right)\\right| \\frac{\\text { eps }}{h} .\n",
    "$$\n",
    "$$ h_{0}=\\left(\\frac{3 \\text { eps }\\left|f\\left(x_{0}\\right)\\right|}{M_{3}}\\right)^{\\frac{1}{3}} \\approx c \\operatorname{eps}^{\\frac{1}{3}} $$\n",
    "now we can verify this numerically."
   ]
  },
  {
   "cell_type": "code",
   "execution_count": 31,
   "metadata": {},
   "outputs": [
    {
     "data": {
      "image/png": "[encoded data removed]",
      "text/plain": [
       "<Figure size 432x288 with 1 Axes>"
      ]
     },
     "metadata": {
      "needs_background": "light"
     },
     "output_type": "display_data"
    }
   ],
   "source": [
    "eps = 2**(-52) # machine precision\n",
    "h = (eps)**(1/3)\n",
    "X_h = np.linspace(h-h/0.0001, h+h/0.0001, 50)\n",
    "D_h_opt = (f(x_0+X_h)-f(x_0-X_h))/(2*X_h)\n",
    "\n",
    "error = abs(D_h_opt- np.exp(1/2))\n",
    "plt.scatter(X_h, error,\n",
    "           label = '(Error,$h$)')\n",
    "plt.scatter(h,abs((f(x_0+h)-f(x_0-h))/(2*h)-np.exp(1/2)),\n",
    "           label = '(Error,$h_{0}$)')\n",
    "plt.show()\n",
    "# it' s very clear that h = (eps)**(1/3) is the optimal"
   ]
  },
  {
   "cell_type": "markdown",
   "metadata": {},
   "source": [
    "(c) Construct and compute a fourth order approximation to $f^{\\prime}(1 / 2)$ by applying Richardson extrapolation to $D_{h}^{0} f(1 / 2)$. Verify the rate of convergence numerically. What is the optimal $h_{0}$ in this case?"
   ]
  },
  {
   "cell_type": "markdown",
   "metadata": {},
   "source": [
    "$$D_{h}^{e x t} f\\left(x_{0}\\right):=\\frac{4 D_{h / 2}^{0} f\\left(x_{0}\\right)-D_{h}^{0} f\\left(x_{0}\\right)}{3}=f^{\\prime}\\left(x_{0}\\right)+\\tilde{c}_{4} h^{4}+\\cdots\n",
    "$$"
   ]
  },
  {
   "cell_type": "code",
   "execution_count": 35,
   "metadata": {},
   "outputs": [
    {
     "name": "stdout",
     "output_type": "stream",
     "text": [
      "[1.64872093 1.64872125 1.64872127 1.64872127 1.64872127 1.64872127\n",
      " 1.64872127 1.64872127 1.64872127 1.64872127 1.64872127]\n",
      "[3.43585841e-07 2.14693214e-08 1.34175226e-09 8.38740188e-11\n",
      " 5.19317922e-12 2.90434343e-13 1.75415238e-14 1.35891298e-13\n",
      " 4.10782519e-14 1.17794663e-12 6.09512441e-13]\n"
     ]
    }
   ],
   "source": [
    "f = lambda x: np.exp(x)\n",
    "x_0 = 1/2 \n",
    "h = np.array([0.1/2**n for n in range(0, 11)])\n",
    "D_h = (f(x_0+h)-f(x_0-h))/(2*h)\n",
    "D_h2 = (f(x_0+h/2)-f(x_0-h/2))/(2*h/2)\n",
    "S = (4*D_h2 - D_h)/3\n",
    "error = abs(S-np.exp(1/2))\n",
    "print(S)\n",
    "print(error)"
   ]
  },
  {
   "cell_type": "code",
   "execution_count": 36,
   "metadata": {},
   "outputs": [
    {
     "name": "stdout",
     "output_type": "stream",
     "text": [
      "0.062486048137239736 0.06249625849841719\n"
     ]
    }
   ],
   "source": [
    "rate1 = 2.14693214e-08/3.43585841e-07\n",
    "rate2 = 1.34175226e-09/2.14693214e-08\n",
    "print(rate1,rate2)"
   ]
  },
  {
   "cell_type": "markdown",
   "metadata": {},
   "source": [
    "It has a convergence linear trend at the rate of 4, and total error is bounded by: $$C h^{4}+\\frac{\\left|f\\left(x_{0}\\right)\\right| \\epsilon}{h}$$\n",
    "thus,\n",
    "$$\n",
    "h_{0} \\sim \\epsilon^{1 / 5}\n",
    "$$"
   ]
  },
  {
   "cell_type": "code",
   "execution_count": 38,
   "metadata": {},
   "outputs": [
    {
     "data": {
      "image/png": "[encoded data removed]",
      "text/plain": [
       "<Figure size 432x288 with 1 Axes>"
      ]
     },
     "metadata": {
      "needs_background": "light"
     },
     "output_type": "display_data"
    }
   ],
   "source": [
    "h = (eps)**(1/5)\n",
    "X_h = np.linspace(h-h/0.001, h+h/0.001, 50)\n",
    "D_h_opt = (f(x_0+X_h)-f(x_0-X_h))/(2*X_h)\n",
    "\n",
    "error = abs(D_h_opt- np.exp(1/2))\n",
    "plt.scatter(X_h, error,\n",
    "           label = '(Error,$h$)')\n",
    "plt.scatter(h,abs((f(x_0+h)-f(x_0-h))/(2*h)-np.exp(1/2)),\n",
    "           label = '(Error,$h_{0}$)')\n",
    "plt.show()\n",
    "#Hence verified."
   ]
  }
 ],
 "metadata": {
  "kernelspec": {
   "display_name": "Python 3",
   "language": "python",
   "name": "python3"
  },
  "language_info": {
   "codemirror_mode": {
    "name": "ipython",
    "version": 3
   },
   "file_extension": ".py",
   "mimetype": "text/x-python",
   "name": "python",
   "nbconvert_exporter": "python",
   "pygments_lexer": "ipython3",
   "version": "3.8.5"
  }
 },
 "nbformat": 4,
 "nbformat_minor": 4
}
